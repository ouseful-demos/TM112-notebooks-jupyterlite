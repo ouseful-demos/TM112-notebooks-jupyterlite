{
 "cells": [
  {
   "cell_type": "markdown",
   "metadata": {},
   "source": [
    "(using-jupyter-notebooks)=\n",
    "# Using Jupyter Notebooks\n",
    "\n",
    "Welcome to the world of Jupyter notebooks.\n",
    "\n",
    "Jupyter notebooks provide a literate programming, browser based interface and interactive development environment for a wide range of computer languages.\n",
    "\n",
    "This notebook - and the notebooks you will be using in TM112 - are designed to be used with a Python 3 environment. The Python environment is created by a Jupyter notebook server. The server manages the environment and communication between the environment and the notebook interface.\n",
    "\n",
    "Your Python code *does not* execute in the browser, it runs in the Python environment managed by the notebook server. If you check the URL you are viewing this notebook from, the domain part of the URL broadly identifies the location the server is running from.\n",
    "\n",
    "As you can probably tell, Jupyter notebooks can include text, like this.\n",
    "\n",
    "If you click once with this block of text, you should notice that the *cell* containing this text becomes selected.\n",
    "\n",
    "If you *double click* the cell, which happens to be a *markdown* cell, as identified in the notebook toolbar at top of the notebook, becomes editable.\n",
    "\n",
    "Try and type something...\n",
    "\n",
    "To return the rendered view of the cell, click the `Run` button in the toolbar, or use the keyboard shortcut: `SHIFT-ENTER`."
   ]
  },
  {
   "cell_type": "markdown",
   "metadata": {},
   "source": [
    "## Markdown\n",
    "Markdown cells contain *markdown*, which is a simplified markup language. Double click this cell again to enter the edit mode to see the raw markdown. You may notice it reads sensibly as \"annotated\" text - *emphasised* elements, __strongly emphasised__ elements, as well as when rendered as HTML.\n",
    "\n",
    "### Nesting\n",
    "Markdown also lets you create lists:\n",
    "\n",
    "- item 1\n",
    "- item 2\n",
    "  - subitem 1\n",
    "  \n",
    "Remember - to get out of markdown cell edit mode, `Run` the cell (or `SHIFT-ENTER`)."
   ]
  },
  {
   "cell_type": "markdown",
   "metadata": {},
   "source": [
    "As well as markdown cells, Jupyter notebooks also contain code cells. By default, when you create a new cell (click the `+` button in the toolbar), it is created as a code cell. To change the type of a cell, click on it once to highlight it and then set the cell type from the toolbar menu. (There are keyboard shortcuts to do this too - `ESC-m` converts a code cell to a markdown cell.)\n",
    "\n",
    "See if you can create a new cell, convert it to a markdown cell, and create some of your own text, starting with a heading... If you make a mistake, `CTRL-z` will undo the change."
   ]
  },
  {
   "cell_type": "markdown",
   "metadata": {},
   "source": [
    "## Code Cells\n",
    "\n",
    "So what are code cells? You may notice that the cell directly below this one looks different. That's because it's a *code* cell. Code cells contain executable code, Python in the case of the TM112 notebooks.\n",
    "\n",
    "To execute the code, click on the cell to select it and hit the run button (or `SHIFT-ENTER`)."
   ]
  },
  {
   "cell_type": "code",
   "execution_count": null,
   "metadata": {},
   "outputs": [],
   "source": [
    "print('hello world')"
   ]
  },
  {
   "cell_type": "markdown",
   "metadata": {},
   "source": [
    "Click in a code cell to edit it. See if you can change the message in the cell above and then run it to print out your own message.\n",
    "\n",
    "Click on this cell to highlight it and then create a new code cell (the `+` button in the toolbar; you can also delete a cell using the scissors. There is an *Undo Delete Cell* option in the *Edit* menu if you make a mistake).\n",
    "\n",
    "The new cell should be created directly below this one. Click in the code area to raise an edit cursor and see if you can print out another message from that cell."
   ]
  },
  {
   "cell_type": "markdown",
   "metadata": {},
   "source": [
    "## Using Python in a Code Cell\n",
    "\n",
    "You can include one or more lines of any valid python code in a code cell, including comments. When you run the code cell, the code is executed and state is updated in the normal way.\n",
    "\n",
    "Run the following code cell - does it behave as you expect?"
   ]
  },
  {
   "cell_type": "code",
   "execution_count": null,
   "metadata": {},
   "outputs": [],
   "source": [
    "#Create a variable\n",
    "a = 1\n",
    "#Add to it\n",
    "a = a + 1\n",
    "print(a)"
   ]
  },
  {
   "cell_type": "markdown",
   "metadata": {
    "slideshow": {
     "slide_type": "slide"
    }
   },
   "source": [
    "The Python environment behind the notebook is actually an IPython environment. One of the handy features about it is that the value of a variable that is on the last line of the code cell is displayed when you run the cell.\n",
    "\n",
    "*(By now you're hopefully getting the idea that when you get to a code cell whilst reading the notebook, you should run. I'm going to assume that from now and and stop prompting you... except for this one last time: run the code cell below.)*"
   ]
  },
  {
   "cell_type": "code",
   "execution_count": null,
   "metadata": {},
   "outputs": [],
   "source": [
    "a = a + 1\n",
    "a"
   ]
  },
  {
   "cell_type": "markdown",
   "metadata": {},
   "source": [
    "Did that cell behave as you expected?\n",
    "\n",
    "One thing to notice is that the notebook output is preserved and does not update to show the *current state* of a variable. (In the same way, the history of executed statements in IDLE doesn't magically update when you update the value of a variable.)\n",
    "\n",
    "So if you run the code cell below, the output displayed by the code cell above could be misleading..."
   ]
  },
  {
   "cell_type": "code",
   "execution_count": null,
   "metadata": {},
   "outputs": [],
   "source": [
    "a = a + 1\n",
    "a"
   ]
  },
  {
   "cell_type": "markdown",
   "metadata": {},
   "source": [
    "One way to keep track of things is to look at the index number that appears to the left of a code cell (and its output) when you run the cell. The number is incremental and keeps track of the order in which you have run the cells.\n",
    "\n",
    "If you want to run a notebook from scratch, as a blank slate, you can kill the current Python process and create a new one. From the *Kernel* menu, select one of the *Restart* options. This will throw away all state you have set and give you a completely fresh Python environment to work with. The ease with which Python kernels can be restarted from scratch is useful when testing notebooks that embody a process you want to be repeatable, such as piece of scientific analysis. This is one of the major use cases for Jupyter notebooks. "
   ]
  },
  {
   "cell_type": "markdown",
   "metadata": {},
   "source": [
    "## So What Next?\n",
    "\n",
    "That's about all you need to know in order to use the notebooks as part of TM112...\n",
    "\n",
    "For the most part, the TM112 notebook activities just require you to run the provided code cells, with some minor edits or contributions (for example, providing a postcode for the geocoding activities). If you do update or make edits to a notebook, it will autosave regularly, but you can also force a save using the *Save and Checkpoint* toolbar button. You can also download a notebook as an *.ipynb* file or export an HTML  rendering of it from the file menu. (The HTML version of the page is not interactive - you will not be able to run the code from it.)\n",
    "\n",
    "You are welcome to create your own Jupyter notebooks and use them for your own work. If you prefer a more traditional code development environment, you may be interested in checking out the [JupyterLab environment](https://blog.jupyter.org/jupyterlab-is-ready-for-users-5a6f039b8906)."
   ]
  }
 ],
 "metadata": {
  "kernelspec": {
   "display_name": "Python 3",
   "language": "python",
   "name": "python3"
  },
  "language_info": {
   "codemirror_mode": {
    "name": "ipython",
    "version": 3
   },
   "file_extension": ".py",
   "mimetype": "text/x-python",
   "name": "python",
   "nbconvert_exporter": "python",
   "pygments_lexer": "ipython3",
   "version": "3.9.5"
  }
 },
 "nbformat": 4,
 "nbformat_minor": 2
}
