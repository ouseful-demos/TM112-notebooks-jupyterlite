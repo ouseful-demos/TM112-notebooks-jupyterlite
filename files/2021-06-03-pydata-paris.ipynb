{
  "metadata": {
    "language_info": {
      "codemirror_mode": {
        "name": "python",
        "version": 3
      },
      "file_extension": ".py",
      "mimetype": "text/x-python",
      "name": "python",
      "nbconvert_exporter": "python",
      "pygments_lexer": "ipython3",
      "version": "3.8"
    },
    "kernelspec": {
      "name": "python",
      "display_name": "Pyolite",
      "language": "python"
    }
  },
  "nbformat_minor": 4,
  "nbformat": 4,
  "cells": [
    {
      "cell_type": "markdown",
      "source": "![jupyterlite-wordmark](https://user-images.githubusercontent.com/591645/120655841-5c1b8780-c483-11eb-8e45-7f87b23ee176.png)\n\n<h2 style=\"text-align: center\">Wasm powered Jupyter running in the browser 💡</h2>\n<h2 style=\"text-align: center\">PyData Paris - 2021-06-03</h2>\n<h3 style=\"text-align: center\"><a href=\"https://github.com/jtpio/jupyterlite\">https://github.com/jtpio/jupyterlite</a></h3>\n<h4 style=\"text-align: center\">Jeremy Tuloup - <a href=\"https://twitter.com/jtpio\">@jtpio</a></h3>",
      "metadata": {
        "tags": []
      }
    },
    {
      "cell_type": "code",
      "source": "print('Hello World!')",
      "metadata": {
        "trusted": true
      },
      "execution_count": null,
      "outputs": []
    },
    {
      "cell_type": "markdown",
      "source": "<br><br><br><br><br><br><br><br><br><br><br><br><br><br><br><br><br><br><br><br><br><br><br><br><br><br><br><br><br><br><br><br><br><br><br><br>",
      "metadata": {}
    },
    {
      "cell_type": "markdown",
      "source": "# Browser-based Interactive Computing",
      "metadata": {}
    },
    {
      "cell_type": "code",
      "source": "1 + 1",
      "metadata": {
        "trusted": true
      },
      "execution_count": null,
      "outputs": []
    },
    {
      "cell_type": "code",
      "source": "import this",
      "metadata": {
        "trusted": true
      },
      "execution_count": null,
      "outputs": []
    },
    {
      "cell_type": "code",
      "source": "import sys\nprint('boom', file=sys.stderr)",
      "metadata": {
        "trusted": true
      },
      "execution_count": null,
      "outputs": []
    },
    {
      "cell_type": "markdown",
      "source": "<br><br><br><br><br><br><br><br><br><br><br><br><br><br><br><br><br><br><br><br><br><br><br><br><br><br><br><br><br><br><br><br><br><br><br><br>",
      "metadata": {}
    },
    {
      "cell_type": "markdown",
      "source": "## History\n\n### Jyve\n\n![image](https://user-images.githubusercontent.com/591645/120651123-b8c87380-c47e-11eb-92dc-91577794544b.png)\n\n### p5 Notebook\n\n![](https://raw.githubusercontent.com/jtpio/p5-notebook/main/screenshot.png)\n\n### Basthon\n\n![image](https://user-images.githubusercontent.com/591645/120651295-eb726c00-c47e-11eb-99c6-4a72f90e3bc2.png)\n\n### Starboard\n\n![image](https://user-images.githubusercontent.com/591645/120651446-1492fc80-c47f-11eb-91aa-8b891832d921.png)\n\n### Observable\n\n![image](https://user-images.githubusercontent.com/591645/120678237-2fbe3600-c498-11eb-8654-d521afa8c311.png)",
      "metadata": {
        "tags": []
      }
    },
    {
      "cell_type": "markdown",
      "source": "<br><br><br><br><br><br><br><br><br><br><br><br><br><br><br><br><br><br><br><br><br><br><br><br><br><br><br><br><br><br><br><br><br><br><br><br>",
      "metadata": {}
    },
    {
      "cell_type": "markdown",
      "source": "# Browser-based Interactive Computing\n\n- Python kernel backed by [Pyodide](https://pyodide.org) running in a Web Worker\n- JavaScript kernel running in an `IFrame`\n- Combine Offline Notebook storage in browser `localStorage` or `IndexedDB` with example files\n- Support for saving settings for JupyterLab/Lite core and federated extensions\n- Session and kernel management to have multiple kernels running on the page at the same time\n- Support for [Code Consoles](https://jupyterlab.readthedocs.io/en/stable/user/code_console.html)\n- Built-in JupyterLab Themes and third-party (prebuilt) themes\n- Initial support for visualization libraries such as `matplotlib` and `altair`\n\n## ✨ Demo: https://jupyterlite.rtfd.io/en/latest/try/lab ✨",
      "metadata": {}
    },
    {
      "cell_type": "markdown",
      "source": "<br><br><br><br><br><br><br><br><br><br><br><br><br><br><br><br><br><br><br><br><br><br><br><br><br><br><br><br><br><br><br><br><br><br><br><br>",
      "metadata": {}
    },
    {
      "cell_type": "markdown",
      "source": "# Use Cases",
      "metadata": {}
    },
    {
      "cell_type": "markdown",
      "source": "<br><br><br><br><br><br><br><br><br><br><br><br><br><br><br><br><br><br><br><br><br><br><br><br><br><br><br><br><br><br><br><br><br><br><br><br>",
      "metadata": {}
    },
    {
      "cell_type": "markdown",
      "source": "## Lightweight Jupyter Frontend running in the browser\n\n  - no server\n  - no command line\n  - no dependency management\n  \n ",
      "metadata": {}
    },
    {
      "cell_type": "markdown",
      "source": "<br><br><br><br><br><br><br><br><br><br><br><br><br><br><br><br><br><br><br><br><br><br><br><br><br><br><br><br><br><br><br><br><br><br><br><br>",
      "metadata": {}
    },
    {
      "cell_type": "markdown",
      "source": "## Boots in seconds\n\nUseful to quickly try something out.\n\n**Examples**\n\n- https://jupyterlite.rtfd.io/en/latest/try/lab (Read The Docs), from https://github.com/jtpio/jupyterlite\n- https://jtpio.github.io/jupyterlite-demo (GitHub Pages), from https://github.com/jtpio/jupyterlite-demo\n\n![boots-seconds](https://user-images.githubusercontent.com/591645/120649478-18258400-c47d-11eb-80e5-185e52ff2702.gif)",
      "metadata": {}
    },
    {
      "cell_type": "markdown",
      "source": "<br><br><br><br><br><br><br><br><br><br><br><br><br><br><br><br><br><br><br><br><br><br><br><br><br><br><br><br><br><br><br><br><br><br><br><br>",
      "metadata": {}
    },
    {
      "cell_type": "markdown",
      "source": "## Education\n\nFrom: https://twitter.com/DynamicWebPaige/status/1398346277038051335\n\n![jupyterlite-github-mockup](https://user-images.githubusercontent.com/591645/120650571-3475f080-c47e-11eb-8469-9cb93fb83e83.gif)",
      "metadata": {}
    },
    {
      "cell_type": "markdown",
      "source": "<br><br><br><br><br><br><br><br><br><br><br><br><br><br><br><br><br><br><br><br><br><br><br><br><br><br><br><br><br><br><br><br><br><br><br><br>",
      "metadata": {}
    },
    {
      "cell_type": "markdown",
      "source": "## Build your own static frontend\n\nMockup from: https://github.com/jtpio/jupyterlite/issues/41#issue-857897393\n\n![jupyterlite-exporter](https://user-images.githubusercontent.com/591645/120650685-53748280-c47e-11eb-93ef-9aee53f7231c.png)\n",
      "metadata": {}
    },
    {
      "cell_type": "markdown",
      "source": "<br><br><br><br><br><br><br><br><br><br><br><br><br><br><br><br><br><br><br><br><br><br><br><br><br><br><br><br><br><br><br><br><br><br><br><br>",
      "metadata": {}
    },
    {
      "cell_type": "markdown",
      "source": "## Reuse `@jupyterlite` components and packages in other applications\n\n- voila\n- quetz frontend\n- lab based application",
      "metadata": {}
    },
    {
      "cell_type": "markdown",
      "source": "<br><br><br><br><br><br><br><br><br><br><br><br><br><br><br><br><br><br><br><br><br><br><br><br><br><br><br><br><br><br><br><br><br><br><br><br>",
      "metadata": {}
    },
    {
      "cell_type": "markdown",
      "source": "## Deployment\n\nhttps://jupyterlite.readthedocs.io/en/latest/deploying.html\n\n<img width=256 src=\"https://user-images.githubusercontent.com/591645/120675034-00f29080-c495-11eb-928c-26bb94e8eb68.png\">\n\n---\n\n<img width=256 src=\"https://user-images.githubusercontent.com/591645/120676545-6dba5a80-c496-11eb-9b2b-604e92c3429b.png\">\n\n\n\n---\n\n<img width=256 src=\"https://user-images.githubusercontent.com/591645/120675516-6f375300-c495-11eb-819c-d6f1fb3cb0f1.png\">\n\n---\n\n<img width=256 src=\"https://user-images.githubusercontent.com/591645/120676108-03a1b580-c496-11eb-8990-ed30c7861376.png\">\n\n---\n\n<img width=256 src=\"https://user-images.githubusercontent.com/591645/120676313-2df37300-c496-11eb-8639-25e2fc606850.png\">\n\nAnd more: Netlify, nginx, Heroku...",
      "metadata": {}
    },
    {
      "cell_type": "markdown",
      "source": "<br><br><br><br><br><br><br><br><br><br><br><br><br><br><br><br><br><br><br><br><br><br><br><br><br><br><br><br><br><br><br><br><br><br><br><br>",
      "metadata": {}
    },
    {
      "cell_type": "markdown",
      "source": "# Plugin-based Architecture\n\n![jupyterlite-diagram](https://user-images.githubusercontent.com/591645/120672355-858fdf80-c492-11eb-9613-67ad0411de25.png)",
      "metadata": {}
    },
    {
      "cell_type": "markdown",
      "source": "<br><br><br><br><br><br><br><br><br><br><br><br><br><br><br><br><br><br><br><br><br><br><br><br><br><br><br><br><br><br><br><br><br><br><br><br>",
      "metadata": {}
    },
    {
      "cell_type": "markdown",
      "source": "## Packages\n\n- Using the latest JupyterLab `3.1.0-alpha.11` packages\n\n![](https://raw.githubusercontent.com/gist/bollwyvl/58ea3c2889fb0696d1008a1831527c52/raw/0361215c1fdf37ac6d867f3453bc63aa114c98eb/jupyterlite.dio.svg)\n\n(from: https://github.com/jtpio/jupyterlite/issues/34#issuecomment-819587926)",
      "metadata": {}
    },
    {
      "cell_type": "markdown",
      "source": "<br><br><br><br><br><br><br><br><br><br><br><br><br><br><br><br><br><br><br><br><br><br><br><br><br><br><br><br><br><br><br><br><br><br><br><br>",
      "metadata": {}
    },
    {
      "cell_type": "markdown",
      "source": "# Real Time Collaboration\n\n### Coming Soon!: https://github.com/jtpio/jupyterlite/pull/109\n\n### https://jupyterlite--109.org.readthedocs.build/en/109/_static/lab/?room=pydata-paris\n\n![rtc-retro-lab](https://user-images.githubusercontent.com/591645/120653630-2b3a5300-c481-11eb-8c66-eeaa3674cbb1.gif)",
      "metadata": {}
    },
    {
      "cell_type": "markdown",
      "source": "<br><br><br><br><br><br><br><br><br><br><br><br><br><br><br><br><br><br><br><br><br><br><br><br><br><br><br><br><br><br><br><br><br><br><br><br>",
      "metadata": {}
    },
    {
      "cell_type": "markdown",
      "source": "# Up Next\n\n➡️ **MVP Project on GitHub**: https://github.com/jtpio/jupyterlite/projects/1\n\n## Improved tooling\n\n### Author `serverlite` extensions\n\nhttps://github.com/jtpio/jupyterlite/issues/104\n\n- New kernels (SQLite with `sql.js`, `xeus-python`)\n- Alternative contents manager\n- Authentication\n- Remote kernels running on Binder\n\n### Deploy a JupyterLite Website easily\n\nhttps://github.com/jtpio/jupyterlite/issues/67\n\n- JupyterLite Exporter\n- Reusing existing JupyterLab extensions\n- Drop-in content and data\n\n\n## Jupyter Widgets\n\nhttps://github.com/jtpio/jupyterlite/issues/18\n\n## Plotly\n\nhttps://github.com/jtpio/jupyterlite/pull/129\n\n![plotly](https://user-images.githubusercontent.com/591645/120596172-b39a0300-c443-11eb-8e4d-56fe7fd73e49.png)",
      "metadata": {}
    },
    {
      "cell_type": "markdown",
      "source": "<br><br><br><br><br><br><br><br><br><br><br><br><br><br><br><br><br><br><br><br><br><br><br><br><br><br><br><br><br><br><br><br><br><br><br><br>",
      "metadata": {}
    },
    {
      "cell_type": "markdown",
      "source": "# Thanks!\n\n## Special thanks to Nicholas Bollweg and all the contributors!",
      "metadata": {}
    }
  ]
}
