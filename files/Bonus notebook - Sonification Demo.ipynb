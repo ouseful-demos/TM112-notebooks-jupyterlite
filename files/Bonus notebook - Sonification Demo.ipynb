{
 "cells": [
  {
   "cell_type": "markdown",
   "metadata": {},
   "source": [
    "# Sonification Demo\n",
    "\n",
    "This notebook demonstrates how to \"sonify\" a simple data set, converting the data to an audio form to help us try to perceive patterns within that data."
   ]
  },
  {
   "cell_type": "markdown",
   "metadata": {},
   "source": [
    "The notebook makes use of the python *pandas* package to represent and *visualise* a dataset, as well as packages associated with the Jupyter notebook environment that support the audio playback as well as the embedding of interactive widgets that allow us to explore a dataset interactively."
   ]
  },
  {
   "cell_type": "markdown",
   "metadata": {},
   "source": [
    "### Setting Up the Notebook\n",
    "\n",
    "Run the following code cells to set up the notebook environment."
   ]
  },
  {
   "cell_type": "code",
   "execution_count": null,
   "metadata": {},
   "outputs": [],
   "source": [
    "#IPython package for embedding an audio player in a notebook\n",
    "from IPython.display import Audio\n",
    "\n",
    "#The ipwidgets.interact package supports interactive widget creation\n",
    "from ipywidgets import interact\n",
    "\n",
    "#Configure the notebook to display charts inline\n",
    "%matplotlib inline\n",
    "\n",
    "#Import a routine to plot simple datasets\n",
    "from matplotlib.pyplot import plot"
   ]
  },
  {
   "cell_type": "code",
   "execution_count": null,
   "metadata": {},
   "outputs": [],
   "source": [
    "#Import the pandas package for working with tabular datasets\n",
    "import pandas as pd\n",
    "\n",
    "#Various packages that provide access to maths functions\n",
    "import random\n",
    "import numpy as np\n",
    "import math"
   ]
  },
  {
   "cell_type": "markdown",
   "metadata": {},
   "source": [
    "## Working With Audio\n",
    "\n",
    "The following examples are based on a [sonification notebook](https://jupyter.brynmawr.edu/services/public/dblank/jupyter.cs/Sonification.ipynb) published by Doug Blank at Bryn Mawr College.\n",
    "\n",
    "Let's start with a simple demonstration of how to create and play a simple tone (a sine wave). You do not need to understand how the code works in order to run the code cell.\n",
    "\n",
    "If you want the audio player to play the tone automatically when the code cell is run, change the setting from `autoplay=False` to `autoplay=True`.\n",
    "\n",
    "__Run the code cells below now.__"
   ]
  },
  {
   "cell_type": "code",
   "execution_count": null,
   "metadata": {},
   "outputs": [],
   "source": [
    "duration = 2 # duration of the tone in seconds\n",
    "rate = 44100 # sampling rate of the tone"
   ]
  },
  {
   "cell_type": "code",
   "execution_count": null,
   "metadata": {
    "scrolled": true
   },
   "outputs": [],
   "source": [
    "#https://jupyter.brynmawr.edu/services/public/dblank/jupyter.cs/Sonification.ipynb\n",
    "#This rather complicated looking function creates a function\n",
    "#It allows us to retrieve the value of a sine wave of a particular frequency at a particular time.\n",
    "#The frequency is the frequency of the tone in hertz (hz)\n",
    "def make_tone(frequency):\n",
    "    def f(t):\n",
    "        return math.sin(2 * math.pi * frequency * t)\n",
    "    return f\n",
    "\n",
    "tone440 = make_tone(440) \n",
    "\n",
    "#Visualise the tone over a short period (0.1s)\n",
    "plot([tone440(t) for t in np.arange(0, .01, 1/rate)]);\n",
    "\n",
    "#Generate the tone and play it through a notebook embedded audio player\n",
    "Audio([tone440(t) for t in np.arange(0, duration, 1/rate)], rate=rate, autoplay=False)"
   ]
  },
  {
   "cell_type": "markdown",
   "metadata": {},
   "source": [
    "## Sonifying Data\n",
    "\n",
    "As well as playing simple tones, we can also generate audio signals of varying frequencies based on data values contained within a dataset.\n",
    "\n",
    "We will create a couple of helper functions to generate an \"audio\" dataset from a "
   ]
  },
  {
   "cell_type": "code",
   "execution_count": null,
   "metadata": {},
   "outputs": [],
   "source": [
    "# Function to find the value of a sine wave of a given frequency at a particular time\n",
    "def make_tone2(t, frequency):\n",
    "    return math.sin(2 * math.pi * frequency * t)"
   ]
  },
  {
   "cell_type": "code",
   "execution_count": null,
   "metadata": {},
   "outputs": [],
   "source": [
    "#Grab a list of frequency values from a dataset for playback over a given period at a given sampling rate\n",
    "def makeAudio(data, duration, rate, minf=200, maxf=5000):\n",
    "    audiodata=[]\n",
    "    for t in np.arange(0, duration, 1/rate):\n",
    "        data_index = math.floor(t/duration * len(data))\n",
    "        ratio = (data[data_index] - min(data))/(max(data) - min(data))            \n",
    "        audiodata.append(make_tone2(t, ratio * (maxf - minf) + minf)) \n",
    "    return audiodata"
   ]
  },
  {
   "cell_type": "markdown",
   "metadata": {},
   "source": [
    "The `makeAudio()` function may take some time to run, so it makes sense to provide a means for saving and loading the data. "
   ]
  },
  {
   "cell_type": "code",
   "execution_count": null,
   "metadata": {},
   "outputs": [],
   "source": [
    "def saveAudioData(data, outfile = \"audiodata.txt\"):\n",
    "    ''' Function to save the audiodata list'''\n",
    "    with open(outfile, \"w\") as f:\n",
    "        for s in data:\n",
    "            f.write(str(s) +\"\\n\")\n",
    "\n",
    "def loadAudioData(infile = \"audiodata.txt\"):\n",
    "    readback = []\n",
    "    with open(infile, \"r\") as f:\n",
    "        for line in f:\n",
    "            readback.append(line.strip())\n",
    "    return readback"
   ]
  },
  {
   "cell_type": "markdown",
   "metadata": {},
   "source": [
    "## Now It's Time to Sonify\n",
    "\n",
    "Generate a sample dataset with several columns, each representing a set frequencies over time:\n",
    "\n",
    "- a set of values that increase proportionally (linearly) over time;\n",
    "- a set of values that decrease proportionally (linearly) over time;\n",
    "- a set of values that increase proportionally (linearly) over time with the addition of random noise."
   ]
  },
  {
   "cell_type": "code",
   "execution_count": null,
   "metadata": {},
   "outputs": [],
   "source": [
    "#Generate the dataset and preview it as a chart\n",
    "numpoints = 50\n",
    "\n",
    "df = pd.DataFrame({'x':np.arange(0, numpoints)})\n",
    "\n",
    "#Generate a column with values proportional to time\n",
    "df['y'] =  df['x'] / numpoints\n",
    "\n",
    "#Generate a column with values inversely proportional to time\n",
    "df['y2'] = 1 - df['y']\n",
    "\n",
    "#Generate a column with values proportional to time with the addition of random noise\n",
    "df['y3'] = df.apply(lambda x: x['y']+((random.random()/5) - 0.1), axis=1)\n",
    "\n",
    "ax = df.plot(kind='scatter', x='x', y='y', color='grey')\n",
    "df.plot(kind='scatter', x='x', y='y2', color='green', ax=ax)\n",
    "df.plot(kind='scatter', x='x', y='y3', color='red', ax=ax)\n",
    "\n",
    "ax.set_xlabel('Sample number')\n",
    "ax.set_ylabel('Value');"
   ]
  },
  {
   "cell_type": "code",
   "execution_count": null,
   "metadata": {},
   "outputs": [],
   "source": [
    "minf=200 #Minimum frequency\n",
    "maxf=4000 #Maximum frequency\n",
    "duration = 2"
   ]
  },
  {
   "cell_type": "markdown",
   "metadata": {},
   "source": [
    "Change the `col = ` setting to one of the other columns (`y`, `y2`, `y3`) to choose which set of data valus to visualise and sonify."
   ]
  },
  {
   "cell_type": "code",
   "execution_count": null,
   "metadata": {},
   "outputs": [],
   "source": [
    "#Select a column to visualise and sonify\n",
    "col = 'y'\n",
    "\n",
    "df.plot(kind='scatter', x= 'x', y=col);\n",
    "Audio(makeAudio(df[col], duration, rate, minf, maxf), rate=rate, autoplay=False)"
   ]
  },
  {
   "cell_type": "markdown",
   "metadata": {},
   "source": [
    "## Visualising a more random scatterplot"
   ]
  },
  {
   "cell_type": "code",
   "execution_count": null,
   "metadata": {},
   "outputs": [],
   "source": [
    "#Example of reordering a list of numbers in a random order\n",
    "nums = list(range(0,10))\n",
    "random.shuffle(nums)\n",
    "nums"
   ]
  },
  {
   "cell_type": "code",
   "execution_count": null,
   "metadata": {},
   "outputs": [],
   "source": [
    "samples = 100\n",
    "\n",
    "df = pd.DataFrame({'x':np.arange(0,samples)})\n",
    "nums=list(range(0,samples))\n",
    "\n",
    "random.shuffle(nums)\n",
    "df['y'] = nums\n",
    "df.plot(kind='scatter',x= 'x',y='y');"
   ]
  },
  {
   "cell_type": "code",
   "execution_count": null,
   "metadata": {},
   "outputs": [],
   "source": [
    "df.plot(kind='scatter',x= 'x',y='y');\n",
    "Audio(makeAudio(df['y'], duration, rate), rate=rate, autoplay=False)"
   ]
  },
  {
   "cell_type": "markdown",
   "metadata": {},
   "source": [
    "## Generating Scatterplots With a Specified Correlation\n",
    "\n",
    "We can create a function that will generate scatterplots with a specified correlation.\n",
    "\n",
    "We can then create an interactive scatterplot explorer that allows us to both visualise and sonify scatterplots with different correlations."
   ]
  },
  {
   "cell_type": "code",
   "execution_count": null,
   "metadata": {},
   "outputs": [],
   "source": [
    "#ish via https://stackoverflow.com/a/18684433/454773\n",
    "\n",
    "#If the correlation is set to 1 we sometimes get a warning that we can ignore...\n",
    "np.warnings.filterwarnings('ignore', r'covariance')\n",
    "\n",
    "def generateCorrelatedData(correlation):\n",
    "    ''' Function to create a two dimensional dataset with a specified correlation between values '''\n",
    "    \n",
    "    xmin=0\n",
    "    xmax=100\n",
    "\n",
    "    ymin=0\n",
    "    ymax=1\n",
    "\n",
    "    xx = np.array([xmin, xmax])\n",
    "    yy = np.array([ymin, ymax])\n",
    "    means = [xx.mean(), yy.mean()]\n",
    "\n",
    "    #Set up the standard deviations so the half-interval corresponds to 3 standard deviations\n",
    "    #This means ~99% of the generated points will be inside the interval\n",
    "    stds = [xx.std() / 3, yy.std() / 3]\n",
    "\n",
    "    #Create the correlated data\n",
    "    covariances = [[stds[0]**2, stds[0]*stds[1]*correlation], [stds[0]*stds[1]*correlation, stds[1]**2]]\n",
    "    m = np.random.multivariate_normal(means, covariances, 50)\n",
    "    \n",
    "    #Represent the data as a dataframe\n",
    "    df = pd.DataFrame(m, columns=['x','y'])\n",
    "    \n",
    "    #Sort the dataframe by increasing x\n",
    "    df = df.sort_values('x').reset_index()\n",
    "    \n",
    "    return df"
   ]
  },
  {
   "cell_type": "markdown",
   "metadata": {},
   "source": [
    "We can now use that function as part of an interactive scatterplot explorer."
   ]
  },
  {
   "cell_type": "code",
   "execution_count": null,
   "metadata": {},
   "outputs": [],
   "source": [
    "@interact(correlation=(0,1,0.05))\n",
    "def correlatedScatter(correlation=1.0):\n",
    "    df=generateCorrelatedData(correlation)\n",
    "    df.plot(kind='scatter', x='x', y='y', title='Correlation: {}'.format(correlation));\n",
    "    \n",
    "    display(Audio(makeAudio(df['y'], duration, rate), rate=rate, autoplay=False))"
   ]
  },
  {
   "cell_type": "markdown",
   "metadata": {},
   "source": [
    "## Saving the Audio File\n",
    "\n",
    "As well as playing hthe audio file, we can also save it."
   ]
  },
  {
   "cell_type": "code",
   "execution_count": null,
   "metadata": {},
   "outputs": [],
   "source": [
    "data=makeAudio(df['y'], duration, rate)"
   ]
  },
  {
   "cell_type": "code",
   "execution_count": null,
   "metadata": {},
   "outputs": [],
   "source": [
    "#Wav file generator based on the Jupyter notebook Audio._make_wav() component\n",
    "\n",
    "import struct\n",
    "from io import BytesIO\n",
    "import wave\n",
    "\n",
    "def saveWav(audio_data, filename='sonified.wav', returner=False):\n",
    "    nchan = 1\n",
    "\n",
    "    fp = BytesIO()\n",
    "\n",
    "    maxvalue = np.max(np.abs(audio_data))\n",
    "    scaled = np.int16(audio_data/maxvalue * 32767).tolist()\n",
    "\n",
    "    waveobj = wave.open(fp, mode='wb')\n",
    "    waveobj.setnchannels(nchan)\n",
    "    waveobj.setframerate(rate)\n",
    "    waveobj.setsampwidth(2)\n",
    "    waveobj.setcomptype('NONE','NONE')\n",
    "    waveobj.writeframes(b''.join([struct.pack('<h',x) for x in scaled]))\n",
    "    \n",
    "    val = fp.getvalue()\n",
    "    \n",
    "    waveobj.close()\n",
    "    \n",
    "    with open(filename,'wb') as out:\n",
    "        out.write(val)\n",
    "        \n",
    "    if returner: return val"
   ]
  },
  {
   "cell_type": "markdown",
   "metadata": {},
   "source": [
    "## Summary\n",
    "\n",
    "This notebook has demonstrated how simple datasets can be \"visualised\" in an audible way using a technique referred to as a *sonification*."
   ]
  }
 ],
 "metadata": {
  "kernelspec": {
   "display_name": "Python 3.6",
   "language": "python",
   "name": "python36"
  },
  "language_info": {
   "codemirror_mode": {
    "name": "ipython",
    "version": 3
   },
   "file_extension": ".py",
   "mimetype": "text/x-python",
   "name": "python",
   "nbconvert_exporter": "python",
   "pygments_lexer": "ipython3",
   "version": "3.6.3"
  }
 },
 "nbformat": 4,
 "nbformat_minor": 2
}
