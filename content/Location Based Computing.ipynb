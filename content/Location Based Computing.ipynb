{
 "cells": [
  {
   "cell_type": "markdown",
   "id": "public-precipitation",
   "metadata": {},
   "source": [
    "# Location Based Computing\n",
    "\n",
    "Welcome to this collection of practical activities. The materials are presented as an online interactive Jupyter Book textbook, although you can can also work through them as live interactive Jupyter notebooks if you prefer."
   ]
  },
  {
   "cell_type": "markdown",
   "id": "timely-greeting",
   "metadata": {},
   "source": [
    "```{note}\n",
    "Launching the execution environments that support the live interactive textbook activities or the live notebooks may take some time. We are freeloading on a community project that provides the computing backend — [MyBinder.org](https://mybinder.readthedocs.io/en/latest/) — and its available resources may be limited at any particular time.\n",
    "```"
   ]
  },
  {
   "cell_type": "markdown",
   "id": "second-hydrogen",
   "metadata": {},
   "source": [
    "## Running the Interactive Textbook Activities\n",
    "\n",
    "To run interactive notebooks, from the top menu bar, clcik the rocket icon in the inteactive textbook toolbar at the top of the page and select the *Live Code* option.\n",
    "\n",
    "A connection will be made a live code execution environment and the environment started up:\n",
    "\n",
    "![](images/launch_thebe.gif)\n",
    "\n",
    "When the environment is ready, that status notice will change:\n",
    "\n",
    "![](images/thebe_ready.png)\n",
    "\n",
    "When the environment is enabled, each code cell in the interactive textbook will be \"activated\" and include a *Run* button. Clicking he *Run* button in a cell will execute the code in that cell.\n",
    "\n",
    "![](images/hello_world.gif)\n",
    "\n",
    "Clicking *Restart* will reset the code execution environment. Following a restart, if a code cell requires an precursor code cell to have been run previously, you will need to make sure that cell is run again even if it was run prior to the restart.\n",
    "\n",
    "```{warning}\n",
    "The contents of code cells may be edited, which means you can change the contents of a code cell and run your own code. However, there is currently no way to save any code changes you may make.\n",
    "```"
   ]
  },
  {
   "cell_type": "markdown",
   "id": "descending-domain",
   "metadata": {},
   "source": [
    "## Launching the Live Jupyter Notebooks\n",
    "\n",
    "Jupyter notebooks are a widely used environment for working with executable documents that incorporate text, rich media assets (images, videos, auto players), executable code and the outputs of executed code.\n",
    "\n",
    "\n",
    "```{note}\n",
    "See the section [](using-jupyter-notebooks) if you are unfamiliar with how to work with Jupyter noteboks.\n",
    "```\n",
    "\n",
    "To launch the live Jupyter notebook, click on the rocker button in the toolbar at the top of the interactive textbook page and select the *Binder* option.\n",
    "\n",
    "![](images/launch_binder.gif)\n",
    "\n",
    "This will launch a MyBinder session and open a notebook equivalent of the current textbook page.\n",
    "\n",
    "![](images/mybinder_nb.png)\n",
    "\n",
    "```{warning}\n",
    "If you edit the contents of the noteobok and you want to save them, you can either download the notebook or save it to browser storage ([*how to save notebooks to browser local storage*](https://github.com/manics/jupyter-offlinenotebook)).\n",
    "```"
   ]
  }
 ],
 "metadata": {
  "celltoolbar": "Tags",
  "kernelspec": {
   "display_name": "Python 3",
   "language": "python",
   "name": "python3"
  },
  "language_info": {
   "codemirror_mode": {
    "name": "ipython",
    "version": 3
   },
   "file_extension": ".py",
   "mimetype": "text/x-python",
   "name": "python",
   "nbconvert_exporter": "python",
   "pygments_lexer": "ipython3",
   "version": "3.9.5"
  }
 },
 "nbformat": 4,
 "nbformat_minor": 5
}
